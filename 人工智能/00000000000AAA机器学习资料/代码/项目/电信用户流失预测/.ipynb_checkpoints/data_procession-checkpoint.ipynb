{
 "cells": [
  {
   "attachments": {},
   "cell_type": "markdown",
   "metadata": {},
   "source": [
    "# 项目背景及介绍\n",
    "## 任务描述：\n",
    "    随着电信行业的不断发展，运营商们越来越重视如何扩大其客户群体。据研究，获取新客户所需的成本远高于保留现有客户的成本，因此为了满足在激烈竞争中的优势，保留现有客户成为一大挑战。对电信行业而言，可以通过数据挖掘等方式来分析可能影响客户决策的各种因素，以预测他们是否会产生流失（停用服务、转投其他运营商等）。\n",
    "\n",
    "## 数据集：\n",
    "    数据集一共提供了7043条用户样本，每条样本包含21列属性，由多个维度的客户信息以及用户是否最终流失的标签组成，客户信息具体如下：\n",
    "    基本信息：包括性别、年龄、经济情况、入网时间等；\n",
    "    开通业务信息：包括是否开通电话业务、互联网业务、网络电视业务、技术支持业务等；\n",
    "    签署的合约信息：包括合同年限、付款方式、每月费用、总费用等。\n",
    "\n",
    "## 评测：\n",
    "    电信用户流失预测中，运营商最为关心的是客户的召回率，即在真正流失的样本中，我们预测到多少条样本。其策略是宁可把未流失的客户预测为流失客户而进行多余的留客行为，也不漏掉任何一名真正流失的客户。\n",
    "\n",
    "## 实现思路\n",
    "    数据预处理、可视化分析、特征工程、模型预测、模型评估、分析与决策。\n",
    "<img src=\"./pic01.jpg\">\n",
    "    "
   ]
  },
  {
   "cell_type": "markdown",
   "metadata": {},
   "source": []
  },
  {
   "cell_type": "code",
   "execution_count": null,
   "metadata": {
    "collapsed": true
   },
   "outputs": [],
   "source": []
  }
 ],
 "metadata": {
  "kernelspec": {
   "display_name": "Python 3",
   "language": "python",
   "name": "python3"
  },
  "language_info": {
   "codemirror_mode": {
    "name": "ipython",
    "version": 3
   },
   "file_extension": ".py",
   "mimetype": "text/x-python",
   "name": "python",
   "nbconvert_exporter": "python",
   "pygments_lexer": "ipython3",
   "version": "3.6.3"
  }
 },
 "nbformat": 4,
 "nbformat_minor": 2
}
