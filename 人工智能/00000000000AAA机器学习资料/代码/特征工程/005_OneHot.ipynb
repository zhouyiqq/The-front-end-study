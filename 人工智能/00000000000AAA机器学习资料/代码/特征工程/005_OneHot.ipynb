{
 "cells": [
  {
   "cell_type": "code",
   "execution_count": 23,
   "metadata": {
    "collapsed": true
   },
   "outputs": [],
   "source": [
    "import numpy as np\n",
    "from sklearn.preprocessing import OneHotEncoder"
   ]
  },
  {
   "cell_type": "markdown",
   "metadata": {},
   "source": [
    "# OneHotEncoder要求数据类别必须是数值的\n",
    "## -- categorical_features：给定对那些列的数据进行哑编码操作，默认是对所有类数据做\n",
    "## -- n_values：明确给定各个特征属性的类别数目，其实是最大值-最小值+1\n",
    "### ---- enc = OneHotEncoder(categorical_features=[1,2])\n",
    "### ---- enc = OneHotEncoder(n_values=[3, 3, 4])"
   ]
  },
  {
   "cell_type": "code",
   "execution_count": 30,
   "metadata": {},
   "outputs": [
    {
     "name": "stdout",
     "output_type": "stream",
     "text": [
      "[[0 0 3]\n",
      " [2 1 0]\n",
      " [0 2 1]\n",
      " [1 0 1]\n",
      " [1 1 1]]\n",
      "编码结果 [array([0, 1, 2]), array([0, 1, 2]), array([0, 1, 3])]\n"
     ]
    }
   ],
   "source": [
    "enc = OneHotEncoder(drop='first')\n",
    "a=np.array([[0, 0, 3], \n",
    "            [2, 1, 0], \n",
    "            [0, 2, 1], \n",
    "            [1, 0, 1],\n",
    "            [1, 1, 1]])\n",
    "# a = [\n",
    "#     [1, 1, 2],\n",
    "#     [2, 1, 1],\n",
    "#     [1, 2, 1],\n",
    "#     [3, 1, 2],\n",
    "#     [3, 1, 2]\n",
    "# ]\n",
    "enc.fit(a) \n",
    "print(a)\n",
    "print(\"编码结果\",enc.categories_)\n",
    "# print(\"原来的特征(进行哑编码的)在新的特征矩阵中的位置映射关系:\")\n",
    "# print(enc.feature_indices_)\n",
    "# enc.transform([[1, 2, 2],\n",
    "#                [2, 2, 2]]).toarray()"
   ]
  },
  {
   "cell_type": "code",
   "execution_count": 29,
   "metadata": {},
   "outputs": [
    {
     "name": "stdout",
     "output_type": "stream",
     "text": [
      "[[0. 0. 0. 0. 0. 1.]\n",
      " [0. 1. 1. 0. 0. 0.]\n",
      " [0. 0. 0. 1. 1. 0.]\n",
      " [1. 0. 0. 0. 1. 0.]\n",
      " [1. 0. 1. 0. 1. 0.]]\n"
     ]
    }
   ],
   "source": [
    "print(enc.transform(a).toarray())"
   ]
  },
  {
   "cell_type": "markdown",
   "metadata": {},
   "source": [
    "# 如果类别数据是字符串类型的，可以使用pandas的API进行哑编码转换"
   ]
  },
  {
   "cell_type": "code",
   "execution_count": 31,
   "metadata": {},
   "outputs": [
    {
     "data": {
      "text/html": [
       "<div>\n",
       "<style scoped>\n",
       "    .dataframe tbody tr th:only-of-type {\n",
       "        vertical-align: middle;\n",
       "    }\n",
       "\n",
       "    .dataframe tbody tr th {\n",
       "        vertical-align: top;\n",
       "    }\n",
       "\n",
       "    .dataframe thead th {\n",
       "        text-align: right;\n",
       "    }\n",
       "</style>\n",
       "<table border=\"1\" class=\"dataframe\">\n",
       "  <thead>\n",
       "    <tr style=\"text-align: right;\">\n",
       "      <th></th>\n",
       "      <th>c2</th>\n",
       "      <th>c3</th>\n",
       "      <th>c1_a</th>\n",
       "      <th>c1_b</th>\n",
       "      <th>c1_c</th>\n",
       "    </tr>\n",
       "  </thead>\n",
       "  <tbody>\n",
       "    <tr>\n",
       "      <th>0</th>\n",
       "      <td>1</td>\n",
       "      <td>2</td>\n",
       "      <td>1</td>\n",
       "      <td>0</td>\n",
       "      <td>0</td>\n",
       "    </tr>\n",
       "    <tr>\n",
       "      <th>1</th>\n",
       "      <td>1</td>\n",
       "      <td>1</td>\n",
       "      <td>0</td>\n",
       "      <td>1</td>\n",
       "      <td>0</td>\n",
       "    </tr>\n",
       "    <tr>\n",
       "      <th>2</th>\n",
       "      <td>2</td>\n",
       "      <td>1</td>\n",
       "      <td>1</td>\n",
       "      <td>0</td>\n",
       "      <td>0</td>\n",
       "    </tr>\n",
       "    <tr>\n",
       "      <th>3</th>\n",
       "      <td>1</td>\n",
       "      <td>2</td>\n",
       "      <td>0</td>\n",
       "      <td>0</td>\n",
       "      <td>1</td>\n",
       "    </tr>\n",
       "    <tr>\n",
       "      <th>4</th>\n",
       "      <td>1</td>\n",
       "      <td>2</td>\n",
       "      <td>0</td>\n",
       "      <td>0</td>\n",
       "      <td>1</td>\n",
       "    </tr>\n",
       "  </tbody>\n",
       "</table>\n",
       "</div>"
      ],
      "text/plain": [
       "   c2  c3  c1_a  c1_b  c1_c\n",
       "0   1   2     1     0     0\n",
       "1   1   1     0     1     0\n",
       "2   2   1     1     0     0\n",
       "3   1   2     0     0     1\n",
       "4   1   2     0     0     1"
      ]
     },
     "execution_count": 31,
     "metadata": {},
     "output_type": "execute_result"
    }
   ],
   "source": [
    "import pandas as pd\n",
    "\n",
    "a = pd.DataFrame([\n",
    "    ['a', 1, 2],\n",
    "    ['b', 1, 1],\n",
    "    ['a', 2, 1],\n",
    "    ['c', 1, 2],\n",
    "    ['c', 1, 2]\n",
    "], columns=['c1', 'c2', 'c3'])\n",
    "a = pd.get_dummies(a)\n",
    "a"
   ]
  },
  {
   "cell_type": "code",
   "execution_count": null,
   "metadata": {
    "collapsed": true
   },
   "outputs": [],
   "source": []
  }
 ],
 "metadata": {
  "kernelspec": {
   "display_name": "Python 3",
   "language": "python",
   "name": "python3"
  },
  "language_info": {
   "codemirror_mode": {
    "name": "ipython",
    "version": 3
   },
   "file_extension": ".py",
   "mimetype": "text/x-python",
   "name": "python",
   "nbconvert_exporter": "python",
   "pygments_lexer": "ipython3",
   "version": "3.6.3"
  }
 },
 "nbformat": 4,
 "nbformat_minor": 2
}
