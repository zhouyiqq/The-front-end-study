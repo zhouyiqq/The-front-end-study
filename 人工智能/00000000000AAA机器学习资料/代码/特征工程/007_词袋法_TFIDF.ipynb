{
 "cells": [
  {
   "cell_type": "code",
   "execution_count": 1,
   "metadata": {
    "collapsed": true
   },
   "outputs": [],
   "source": [
    "import pandas as pd\n",
    "import numpy as np\n",
    "from sklearn.feature_extraction.text import TfidfVectorizer,CountVectorizer,TfidfTransformer"
   ]
  },
  {
   "cell_type": "code",
   "execution_count": 6,
   "metadata": {
    "collapsed": true
   },
   "outputs": [],
   "source": [
    "arr1 = [\n",
    "    \"This is spark, spark sql a every good\",\n",
    "    \"Spark Hadoop Hbase\",\n",
    "    \"This is sample\",\n",
    "    \"This is anthor example anthor example\",\n",
    "    \"spark hbase hadoop spark hive hbase hue oozie\",\n",
    "    \"hue oozie spark\"\n",
    "]\n",
    "arr2 = [\n",
    "    \"this is a sample a example\",\n",
    "    \"this c c cd is another another sample example example\",\n",
    "    \"spark Hbase hadoop Spark hive hbase\"\n",
    "]\n",
    "df = arr2"
   ]
  },
  {
   "cell_type": "code",
   "execution_count": 7,
   "metadata": {},
   "outputs": [
    {
     "name": "stdout",
     "output_type": "stream",
     "text": [
      "[[ 0.  0.  1.  0.  0.  0.  1.  1.  0.  1.]\n",
      " [ 2.  1.  2.  0.  0.  0.  1.  1.  0.  1.]\n",
      " [ 0.  0.  0.  1.  2.  1.  0.  0.  2.  0.]]\n",
      "None\n",
      "['another', 'cd', 'example', 'hadoop', 'hbase', 'hive', 'is', 'sample', 'spark', 'this']\n",
      "转换另外的文档数据\n",
      "[[ 0.  0.  0.  0.  0.  0.  1.  0.  2.  1.]\n",
      " [ 0.  0.  0.  1.  1.  0.  0.  0.  1.  0.]\n",
      " [ 0.  0.  0.  0.  0.  0.  1.  1.  0.  1.]\n",
      " [ 0.  0.  2.  0.  0.  0.  1.  0.  0.  1.]\n",
      " [ 0.  0.  0.  1.  2.  1.  0.  0.  2.  0.]\n",
      " [ 0.  0.  0.  0.  0.  0.  0.  0.  1.  0.]]\n",
      "  (0, 2)\t1.0\n",
      "  (0, 7)\t1.0\n",
      "  (0, 6)\t1.0\n",
      "  (0, 9)\t1.0\n",
      "  (1, 0)\t2.0\n",
      "  (1, 1)\t1.0\n",
      "  (1, 2)\t2.0\n",
      "  (1, 7)\t1.0\n",
      "  (1, 6)\t1.0\n",
      "  (1, 9)\t1.0\n",
      "  (2, 5)\t1.0\n",
      "  (2, 3)\t1.0\n",
      "  (2, 4)\t2.0\n",
      "  (2, 8)\t2.0\n"
     ]
    }
   ],
   "source": [
    "# 相当于词袋法\n",
    "count = CountVectorizer(min_df=0.1, dtype=np.float64, ngram_range=(0,1))\n",
    "df1 = count.fit_transform(df)\n",
    "print (df1.toarray())\n",
    "print (count.get_stop_words())\n",
    "print (count.get_feature_names())\n",
    "print (\"转换另外的文档数据\")\n",
    "print (count.transform(arr1).toarray())\n",
    "print(df1)"
   ]
  },
  {
   "cell_type": "code",
   "execution_count": 8,
   "metadata": {},
   "outputs": [
    {
     "name": "stdout",
     "output_type": "stream",
     "text": [
      "[[ 0.          0.          0.5         0.          0.          0.          0.5\n",
      "   0.5         0.          0.5       ]\n",
      " [ 0.66486672  0.33243336  0.50564828  0.          0.          0.\n",
      "   0.25282414  0.25282414  0.          0.25282414]\n",
      " [ 0.          0.          0.          0.31622777  0.63245553  0.31622777\n",
      "   0.          0.          0.63245553  0.        ]]\n",
      "转换另外的文档数据\n",
      "[[ 0.          0.          0.          0.          0.          0.\n",
      "   0.3349067   0.          0.88072413  0.3349067 ]\n",
      " [ 0.          0.          0.          0.57735027  0.57735027  0.          0.\n",
      "   0.          0.57735027  0.        ]\n",
      " [ 0.          0.          0.          0.          0.          0.\n",
      "   0.57735027  0.57735027  0.          0.57735027]\n",
      " [ 0.          0.          0.81649658  0.          0.          0.\n",
      "   0.40824829  0.          0.          0.40824829]\n",
      " [ 0.          0.          0.          0.31622777  0.63245553  0.31622777\n",
      "   0.          0.          0.63245553  0.        ]\n",
      " [ 0.          0.          0.          0.          0.          0.          0.\n",
      "   0.          1.          0.        ]]\n"
     ]
    }
   ],
   "source": [
    "# 基于TF的值(词袋法)，做一个IDF的转换\n",
    "tfidf_t = TfidfTransformer()\n",
    "df2 = tfidf_t.fit_transform(df1)\n",
    "print (df2.toarray())\n",
    "print (\"转换另外的文档数据\")\n",
    "print (tfidf_t.transform(count.transform(arr1)).toarray())"
   ]
  },
  {
   "cell_type": "code",
   "execution_count": 9,
   "metadata": {},
   "outputs": [
    {
     "name": "stdout",
     "output_type": "stream",
     "text": [
      "[[ 0.          0.          0.5         0.          0.          0.          0.5\n",
      "   0.5         0.          0.5       ]\n",
      " [ 0.66486672  0.33243336  0.50564828  0.          0.          0.\n",
      "   0.25282414  0.25282414  0.          0.25282414]\n",
      " [ 0.          0.          0.          0.31622777  0.63245553  0.31622777\n",
      "   0.          0.          0.63245553  0.        ]]\n",
      "['another', 'cd', 'example', 'hadoop', 'hbase', 'hive', 'is', 'sample', 'spark', 'this']\n",
      "None\n",
      "转换另外的文档数据\n",
      "[[ 0.          0.          0.          0.          0.          0.\n",
      "   0.3349067   0.          0.88072413  0.3349067 ]\n",
      " [ 0.          0.          0.          0.57735027  0.57735027  0.          0.\n",
      "   0.          0.57735027  0.        ]\n",
      " [ 0.          0.          0.          0.          0.          0.\n",
      "   0.57735027  0.57735027  0.          0.57735027]\n",
      " [ 0.          0.          0.81649658  0.          0.          0.\n",
      "   0.40824829  0.          0.          0.40824829]\n",
      " [ 0.          0.          0.          0.31622777  0.63245553  0.31622777\n",
      "   0.          0.          0.63245553  0.        ]\n",
      " [ 0.          0.          0.          0.          0.          0.          0.\n",
      "   0.          1.          0.        ]]\n"
     ]
    }
   ],
   "source": [
    "## 相当TF+IDF(先做词袋法再做IDF转换)\n",
    "tfidf_v = TfidfVectorizer(min_df=0, dtype=np.float64)\n",
    "df3 = tfidf_v.fit_transform(df)\n",
    "print (df3.toarray())\n",
    "print (tfidf_v.get_feature_names())\n",
    "print (tfidf_v.get_stop_words())\n",
    "print (\"转换另外的文档数据\")\n",
    "print (tfidf_v.transform(arr1).toarray())"
   ]
  },
  {
   "cell_type": "code",
   "execution_count": null,
   "metadata": {
    "collapsed": true
   },
   "outputs": [],
   "source": []
  }
 ],
 "metadata": {
  "kernelspec": {
   "display_name": "Python 3",
   "language": "python",
   "name": "python3"
  },
  "language_info": {
   "codemirror_mode": {
    "name": "ipython",
    "version": 3
   },
   "file_extension": ".py",
   "mimetype": "text/x-python",
   "name": "python",
   "nbconvert_exporter": "python",
   "pygments_lexer": "ipython3",
   "version": "3.6.3"
  }
 },
 "nbformat": 4,
 "nbformat_minor": 2
}
