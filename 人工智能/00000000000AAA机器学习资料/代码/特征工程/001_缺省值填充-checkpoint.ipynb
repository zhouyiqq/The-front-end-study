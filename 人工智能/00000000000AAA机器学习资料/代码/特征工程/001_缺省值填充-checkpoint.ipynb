{
 "cells": [
  {
   "cell_type": "code",
   "execution_count": 7,
   "metadata": {
    "collapsed": true
   },
   "outputs": [],
   "source": [
    "import numpy as np\n",
    "from sklearn.preprocessing import Imputer\n"
   ]
  },
  {
   "cell_type": "code",
   "execution_count": 8,
   "metadata": {
    "collapsed": true
   },
   "outputs": [],
   "source": [
    "X = [\n",
    "    [2, 2, 4, 1],\n",
    "    [np.nan, 3, 4, 4],\n",
    "    [1, 1, 1, np.nan],\n",
    "    [2, 2, np.nan, 3]\n",
    "]\n",
    "X2 = [\n",
    "    [2, 6, np.nan, 1],\n",
    "    [np.nan, 5, np.nan, 1],\n",
    "    [4, 1, np.nan, 5],\n",
    "    [np.nan, np.nan, np.nan, 1]\n",
    "]"
   ]
  },
  {
   "cell_type": "code",
   "execution_count": 13,
   "metadata": {},
   "outputs": [
    {
     "name": "stdout",
     "output_type": "stream",
     "text": [
      "[ 1.66666667  2.          3.          2.66666667]\n",
      "[[ 2.          2.          4.          1.        ]\n",
      " [ 1.66666667  3.          4.          4.        ]\n",
      " [ 1.          1.          1.          2.66666667]\n",
      " [ 2.          2.          3.          3.        ]]\n"
     ]
    }
   ],
   "source": [
    "# 按照列进行填充值的计算（计算每个特征属性的填充值）(一般使用这种填充方式)\n",
    "imp1 = Imputer(missing_values='NaN', strategy='mean', axis=0)\n",
    "# 按照行计算填充值(计算每个样本的填充值) -- 一般不用\n",
    "#（如果按照行进行填充的话，那么是不需要进行模型fit的，直接使用X的现有的行信息进行填充的）\n",
    "imp2 = Imputer(missing_values='NaN', strategy='mean', axis=1)\n",
    "\n",
    "# 如果以列进行数据填充的时候，是计算每个特征属性的填充值分别是什么\n",
    "imp1.fit(X)\n",
    "# imp2.fit(X) # 因为按照行数据进行填充转换的时候，是不需要计算到底填充值是什么的\n",
    "# print(X)\n",
    "# # print(imp2.statistics_) # 因为按照行数据进行填充转换的时候，是不需要计算到底填充值是什么的\n",
    "# print(imp2.transform(X))\n",
    "\n",
    "# 当axis=0的时候，获取每个特征的计算出来的填充值\n",
    "print(imp1.statistics_)\n",
    "print(imp1.transform(X))\n"
   ]
  },
  {
   "cell_type": "code",
   "execution_count": 4,
   "metadata": {},
   "outputs": [
    {
     "name": "stdout",
     "output_type": "stream",
     "text": [
      "[[ 2.          6.          3.          1.        ]\n",
      " [ 1.66666667  5.          3.          1.        ]\n",
      " [ 4.          1.          3.          5.        ]\n",
      " [ 1.66666667  2.          3.          1.        ]]\n",
      "--------------------------\n",
      "[[ 2.          6.          3.          1.        ]\n",
      " [ 3.          5.          3.          1.        ]\n",
      " [ 4.          1.          3.33333333  5.        ]\n",
      " [ 1.          1.          1.          1.        ]]\n"
     ]
    },
    {
     "data": {
      "text/plain": [
       "[[2, 6, nan, 1], [nan, 5, nan, 1], [4, 1, nan, 5], [nan, nan, nan, 1]]"
      ]
     },
     "execution_count": 4,
     "metadata": {},
     "output_type": "execute_result"
    }
   ],
   "source": [
    "print (imp1.transform(X2))\n",
    "print (\"--------------------------\")\n",
    "print (imp2.transform(X2))\n",
    "X2"
   ]
  },
  {
   "cell_type": "code",
   "execution_count": 14,
   "metadata": {},
   "outputs": [
    {
     "name": "stdout",
     "output_type": "stream",
     "text": [
      "[ 1.66666667  2.          3.          2.66666667]\n",
      "[ 2.  2.  4.  3.]\n",
      "[ 2.  2.  4.  1.]\n"
     ]
    }
   ],
   "source": [
    "imp1 = Imputer(missing_values='NaN', strategy='mean', axis=0)\n",
    "imp2 = Imputer(missing_values='NaN', strategy='median', axis=0)\n",
    "imp3 = Imputer(missing_values='NaN', strategy='most_frequent', axis=0)\n",
    "imp1.fit(X)\n",
    "imp2.fit(X)\n",
    "imp3.fit(X)\n",
    "print(imp1.statistics_)\n",
    "print(imp2.statistics_)\n",
    "print(imp3.statistics_)"
   ]
  },
  {
   "cell_type": "code",
   "execution_count": 15,
   "metadata": {},
   "outputs": [
    {
     "name": "stdout",
     "output_type": "stream",
     "text": [
      "[[2, 2, 4, 1], [nan, 3, 4, 4], [1, 1, 1, nan], [2, 2, nan, 3]]\n",
      "[[2, 6, nan, 1], [nan, 5, nan, 1], [4, 1, nan, 5], [nan, nan, nan, 1]]\n",
      "--------------------------\n",
      "[[ 2.          6.          3.          1.        ]\n",
      " [ 1.66666667  5.          3.          1.        ]\n",
      " [ 4.          1.          3.          5.        ]\n",
      " [ 1.66666667  2.          3.          1.        ]]\n",
      "--------------------------\n",
      "[[ 2.  6.  4.  1.]\n",
      " [ 2.  5.  4.  1.]\n",
      " [ 4.  1.  4.  5.]\n",
      " [ 2.  2.  4.  1.]]\n",
      "--------------------------\n",
      "[[ 2.  6.  4.  1.]\n",
      " [ 2.  5.  4.  1.]\n",
      " [ 4.  1.  4.  5.]\n",
      " [ 2.  2.  4.  1.]]\n"
     ]
    }
   ],
   "source": [
    "print(X)\n",
    "print (X2)\n",
    "print (\"--------------------------\")\n",
    "print (imp1.transform(X2))\n",
    "print (\"--------------------------\")\n",
    "print (imp2.transform(X2))\n",
    "print (\"--------------------------\")\n",
    "print (imp3.transform(X2))"
   ]
  },
  {
   "cell_type": "markdown",
   "metadata": {
    "collapsed": true
   },
   "source": [
    "# todo：思考：将nan值填充为0怎么填充"
   ]
  },
  {
   "cell_type": "code",
   "execution_count": null,
   "metadata": {
    "collapsed": true
   },
   "outputs": [],
   "source": []
  },
  {
   "cell_type": "code",
   "execution_count": null,
   "metadata": {
    "collapsed": true
   },
   "outputs": [],
   "source": []
  }
 ],
 "metadata": {
  "kernelspec": {
   "display_name": "Python 3",
   "language": "python",
   "name": "python3"
  },
  "language_info": {
   "codemirror_mode": {
    "name": "ipython",
    "version": 3
   },
   "file_extension": ".py",
   "mimetype": "text/x-python",
   "name": "python",
   "nbconvert_exporter": "python",
   "pygments_lexer": "ipython3",
   "version": "3.6.3"
  }
 },
 "nbformat": 4,
 "nbformat_minor": 2
}
