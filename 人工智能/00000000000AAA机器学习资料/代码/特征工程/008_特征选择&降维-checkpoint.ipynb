{
 "cells": [
  {
   "cell_type": "code",
   "execution_count": 1,
   "metadata": {
    "collapsed": true
   },
   "outputs": [],
   "source": [
    "import numpy as np\n",
    "import warnings\n",
    "\n",
    "from sklearn.feature_selection import VarianceThreshold,SelectKBest\n",
    "from sklearn.feature_selection import f_regression\n",
    "from sklearn.feature_selection import chi2\n",
    "from sklearn.feature_selection import RFE\n",
    "from sklearn.feature_selection import SelectFromModel\n",
    "from sklearn.linear_model import LogisticRegression\n"
   ]
  },
  {
   "cell_type": "code",
   "execution_count": 2,
   "metadata": {
    "collapsed": true
   },
   "outputs": [],
   "source": [
    "X = np.array([\n",
    "    [0, 2, 0, 3],\n",
    "    [0, 1, 4, 3],\n",
    "    [0.1, 1, 1, 3]\n",
    "], dtype=np.float32)\n",
    "Y = np.array([1,2,1])"
   ]
  },
  {
   "cell_type": "markdown",
   "metadata": {},
   "source": [
    "## 方差选择法"
   ]
  },
  {
   "cell_type": "code",
   "execution_count": 4,
   "metadata": {},
   "outputs": [
    {
     "name": "stdout",
     "output_type": "stream",
     "text": [
      "VarianceThreshold(threshold=0.1)\n",
      "各个特征属性的方差为:\n",
      "[2.22222229e-03 2.22222222e-01 2.88888889e+00 0.00000000e+00]\n",
      "-----------------\n",
      "[[2. 0.]\n",
      " [1. 4.]\n",
      " [1. 1.]]\n"
     ]
    }
   ],
   "source": [
    "# 基于方差选择最优的特征属性\n",
    "variance = VarianceThreshold(threshold=0.1)\n",
    "print(variance)\n",
    "variance.fit(X)\n",
    "print(\"各个特征属性的方差为:\")\n",
    "print(variance.variances_)\n",
    "print('-----------------')\n",
    "print(variance.transform(X))"
   ]
  },
  {
   "cell_type": "markdown",
   "metadata": {},
   "source": [
    "## 相关系数法"
   ]
  },
  {
   "cell_type": "code",
   "execution_count": 5,
   "metadata": {},
   "outputs": [
    {
     "name": "stdout",
     "output_type": "stream",
     "text": [
      "SelectKBest(k=2, score_func=<function f_regression at 0x00000209FF4126A8>)\n",
      "------------\n",
      "[ 0.33333333  0.33333333 16.33333333         nan]\n",
      "------------\n",
      "[[0.  0. ]\n",
      " [0.  4. ]\n",
      " [0.1 1. ]]\n"
     ]
    },
    {
     "name": "stderr",
     "output_type": "stream",
     "text": [
      "D:\\Anaconda3\\lib\\site-packages\\sklearn\\feature_selection\\_univariate_selection.py:302: RuntimeWarning: divide by zero encountered in true_divide\n",
      "  corr /= X_norms\n",
      "D:\\Anaconda3\\lib\\site-packages\\sklearn\\feature_selection\\_univariate_selection.py:307: RuntimeWarning: invalid value encountered in true_divide\n",
      "  F = corr ** 2 / (1 - corr ** 2) * degrees_of_freedom\n"
     ]
    }
   ],
   "source": [
    "sk1 = SelectKBest(f_regression, k=2)\n",
    "sk1.fit(X, Y)\n",
    "print(sk1)\n",
    "print('------------')\n",
    "print(sk1.scores_)\n",
    "print('------------')\n",
    "print(sk1.transform(X))"
   ]
  },
  {
   "cell_type": "markdown",
   "metadata": {},
   "source": [
    "## 卡方检验"
   ]
  },
  {
   "cell_type": "code",
   "execution_count": 13,
   "metadata": {},
   "outputs": [
    {
     "name": "stdout",
     "output_type": "stream",
     "text": [
      "SelectKBest(k=2, score_func=<function chi2 at 0x000001EE4DB72EA0>)\n",
      "[ 0.05   0.125  4.9    0.   ]\n",
      "[[ 2.  0.]\n",
      " [ 1.  4.]\n",
      " [ 1.  1.]]\n"
     ]
    }
   ],
   "source": [
    "# 使用chi2的时候要求特征属性的取值为非负数\n",
    "sk2 = SelectKBest(chi2, k=2)\n",
    "sk2.fit(X, Y)\n",
    "print(sk2)\n",
    "print(sk2.scores_)\n",
    "print(sk2.transform(X))"
   ]
  },
  {
   "cell_type": "markdown",
   "metadata": {},
   "source": [
    "## Wrapper-递归特征消除法"
   ]
  },
  {
   "cell_type": "code",
   "execution_count": 5,
   "metadata": {},
   "outputs": [
    {
     "name": "stdout",
     "output_type": "stream",
     "text": [
      "[False False  True  True]\n",
      "2\n",
      "[2 2 1 1]\n",
      "[[ 0.  3.]\n",
      " [ 4.  3.]\n",
      " [ 1.  3.]]\n"
     ]
    }
   ],
   "source": [
    "# 基于特征消去法做的特征选择\n",
    "estimator = LogisticRegression()\n",
    "selector = RFE(estimator, 2, step=5)\n",
    "selector = selector.fit(X, Y)\n",
    "print(selector.support_)\n",
    "print(selector.n_features_)\n",
    "print(selector.ranking_)\n",
    "print(selector.transform(X))"
   ]
  },
  {
   "cell_type": "markdown",
   "metadata": {},
   "source": [
    "## Embedded【嵌入法】-基于惩罚项的特征选择法"
   ]
  },
  {
   "cell_type": "code",
   "execution_count": 11,
   "metadata": {},
   "outputs": [
    {
     "name": "stdout",
     "output_type": "stream",
     "text": [
      "[[ 5.1]\n",
      " [ 4.9]\n",
      " [-6.2]\n",
      " [-5.9]]\n",
      "系数:\n",
      "[[-0.28707024 -0.098917    0.06671785  0.03692318]]\n"
     ]
    }
   ],
   "source": [
    "X2 = np.array([\n",
    "    [ 5.1,  3.5,  1.4,  0.2],\n",
    "    [ 4.9,  3. ,  1.4,  0.2],\n",
    "    [ -6.2,  0.4,  5.4,  2.3],\n",
    "    [ -5.9,  0. ,  5.1,  1.8]\n",
    "], dtype=np.float64)\n",
    "Y2 = np.array([0, 0, 2, 2])\n",
    "estimator = LogisticRegression(penalty='l2', C=0.1)\n",
    "sfm = SelectFromModel(estimator,threshold=0.1)\n",
    "sfm.fit(X2, Y2)\n",
    "print(sfm.transform(X2))\n",
    "print(\"系数:\")\n",
    "print(sfm.estimator_.coef_)"
   ]
  },
  {
   "cell_type": "markdown",
   "metadata": {
    "scrolled": false
   },
   "source": [
    "## PCA降维"
   ]
  },
  {
   "cell_type": "code",
   "execution_count": 13,
   "metadata": {},
   "outputs": [
    {
     "name": "stdout",
     "output_type": "stream",
     "text": [
      "[ -0.525   1.725   3.325   1.125   1.825  12.775]\n",
      "[[ 0.02038178 -0.01698103 -0.01350052 -0.0149724   0.03184796 -0.99893718]\n",
      " [ 0.9024592   0.25030511 -0.31422084 -0.15092666 -0.03185873  0.01965141]]\n",
      "[[-0.85553344  0.91881223]\n",
      " [ 0.91401291  0.81156973]\n",
      " [-0.87509227 -0.86146306]\n",
      " [ 0.8166128  -0.8689189 ]]\n"
     ]
    }
   ],
   "source": [
    "from sklearn.decomposition import PCA\n",
    "X2 = np.array([\n",
    "    [ 5.1,  3.5,  1.4,  0.2, 1, 23],\n",
    "    [ 4.9,  3. ,  1.4,  0.2, 2.3, 2.1],\n",
    "    [ -6.2,  0.4,  5.4,  2.3, 2, 23],\n",
    "    [ -5.9,  0. ,  5.1,  1.8, 2, 3]\n",
    "], dtype=np.float64)\n",
    "# n_components: 给定降低到多少维度，但是要求该值必须小于等于样本数目/特征数目，如果给定的值大于，那么会选择样本数目/特征数目中最小的那个作为最终的特征数目\n",
    "# whiten：是否做一个白化的操作，在PCA的基础上，对于特征属性是否做一个标准化\n",
    "pca = PCA(n_components=0.8,whiten=True)\n",
    "pca.fit(X2)\n",
    "print(pca.mean_)\n",
    "print(pca.components_)\n",
    "print(pca.transform(X2))"
   ]
  },
  {
   "cell_type": "markdown",
   "metadata": {},
   "source": [
    "## LDA降维"
   ]
  },
  {
   "cell_type": "code",
   "execution_count": 17,
   "metadata": {},
   "outputs": [
    {
     "name": "stdout",
     "output_type": "stream",
     "text": [
      "[[-3.2688434  -0.38911349]\n",
      " [-1.25507558 -1.78088569]\n",
      " [ 5.26064254 -0.49688862]\n",
      " [ 6.34385833  1.16134391]\n",
      " [-4.05800618  3.58297801]\n",
      " [-3.02257571 -2.07743411]]\n"
     ]
    },
    {
     "name": "stderr",
     "output_type": "stream",
     "text": [
      "D:\\Anaconda3\\lib\\site-packages\\sklearn\\discriminant_analysis.py:388: UserWarning: Variables are collinear.\n",
      "  warnings.warn(\"Variables are collinear.\")\n"
     ]
    }
   ],
   "source": [
    "import numpy as np\n",
    "from sklearn.discriminant_analysis import LinearDiscriminantAnalysis\n",
    "X = np.array([\n",
    "    [-1, -1, 3, 1], \n",
    "    [-2, -1, 2, 4], \n",
    "    [-3, -2, 4, 5], \n",
    "    [1, 1, 5, 4], \n",
    "    [2, 1, 6, -5], \n",
    "    [3, 2, 1, 5]])\n",
    "y = np.array([1, 1, 2, 2, 0, 1])\n",
    "# n_components：给定降低到多少维度，要求给定的这个值和y的取值数量有关，不能超过n_class-1\n",
    "clf = LinearDiscriminantAnalysis(n_components=3)\n",
    "clf.fit(X, y)\n",
    "print(clf.transform(X))"
   ]
  },
  {
   "cell_type": "code",
   "execution_count": null,
   "metadata": {
    "collapsed": true
   },
   "outputs": [],
   "source": []
  },
  {
   "cell_type": "code",
   "execution_count": null,
   "metadata": {
    "collapsed": true
   },
   "outputs": [],
   "source": []
  }
 ],
 "metadata": {
  "kernelspec": {
   "display_name": "Python 3",
   "language": "python",
   "name": "python3"
  },
  "language_info": {
   "codemirror_mode": {
    "name": "ipython",
    "version": 3
   },
   "file_extension": ".py",
   "mimetype": "text/x-python",
   "name": "python",
   "nbconvert_exporter": "python",
   "pygments_lexer": "ipython3",
   "version": "3.6.3"
  }
 },
 "nbformat": 4,
 "nbformat_minor": 2
}
