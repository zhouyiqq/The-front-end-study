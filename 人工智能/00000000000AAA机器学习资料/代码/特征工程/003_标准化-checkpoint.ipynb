{
 "cells": [
  {
   "cell_type": "code",
   "execution_count": 1,
   "metadata": {
    "collapsed": true
   },
   "outputs": [],
   "source": [
    "from sklearn.preprocessing import StandardScaler"
   ]
  },
  {
   "cell_type": "code",
   "execution_count": 2,
   "metadata": {
    "collapsed": true
   },
   "outputs": [],
   "source": [
    "X = [\n",
    "    [1, 2, 3, 2],\n",
    "    [7, 8, 9, 2.01],\n",
    "    [4, 8, 2, 2.01],\n",
    "    [9, 5, 2, 1.99],\n",
    "    [7, 5, 3, 1.99],\n",
    "    [1, 4, 9, 2]\n",
    "]\n",
    "x_test = [\n",
    "    [12,11,13,12],\n",
    "    [5,6,7,9]\n",
    "]"
   ]
  },
  {
   "cell_type": "code",
   "execution_count": 3,
   "metadata": {},
   "outputs": [
    {
     "data": {
      "text/plain": [
       "StandardScaler(copy=True, with_mean=True, with_std=True)"
      ]
     },
     "execution_count": 3,
     "metadata": {},
     "output_type": "execute_result"
    }
   ],
   "source": [
    "ss = StandardScaler(with_mean=True, with_std=True)\n",
    "ss.fit(X)"
   ]
  },
  {
   "cell_type": "code",
   "execution_count": 4,
   "metadata": {},
   "outputs": [
    {
     "name": "stdout",
     "output_type": "stream",
     "text": [
      "[ 4.83333333  5.33333333  4.66666667  2.        ]\n",
      "6\n",
      "[ 3.07769755  2.13437475  3.09120617  0.00816497]\n"
     ]
    }
   ],
   "source": [
    "# 计算每个特征属性的均值\n",
    "print(ss.mean_)\n",
    "print(ss.n_samples_seen_)\n",
    "# 输出每个特征属性的方差\n",
    "print(ss.scale_)"
   ]
  },
  {
   "cell_type": "code",
   "execution_count": 5,
   "metadata": {},
   "outputs": [
    {
     "name": "stdout",
     "output_type": "stream",
     "text": [
      "[[-1.24551983 -1.56173762 -0.53916387  0.        ]\n",
      " [ 0.70398947  1.2493901   1.40182605  1.22474487]\n",
      " [-0.27076518  1.2493901  -0.86266219  1.22474487]\n",
      " [ 1.3538259  -0.15617376 -0.86266219 -1.22474487]\n",
      " [ 0.70398947 -0.15617376 -0.53916387 -1.22474487]\n",
      " [-1.24551983 -0.62469505  1.40182605  0.        ]]\n",
      "[[  2.32858055e+00   2.65495395e+00   2.69581933e+00   1.22474487e+03]\n",
      " [  5.41530361e-02   3.12347524e-01   7.54829412e-01   8.57321410e+02]]\n"
     ]
    }
   ],
   "source": [
    "# 相当于对训练集做一个数据转换\n",
    "print(ss.transform(X))\n",
    "# 相当于对测试集做一个数据转换\n",
    "print(ss.transform(x_test))"
   ]
  },
  {
   "cell_type": "code",
   "execution_count": 6,
   "metadata": {},
   "outputs": [
    {
     "data": {
      "text/html": [
       "<div>\n",
       "<style>\n",
       "    .dataframe thead tr:only-child th {\n",
       "        text-align: right;\n",
       "    }\n",
       "\n",
       "    .dataframe thead th {\n",
       "        text-align: left;\n",
       "    }\n",
       "\n",
       "    .dataframe tbody tr th {\n",
       "        vertical-align: top;\n",
       "    }\n",
       "</style>\n",
       "<table border=\"1\" class=\"dataframe\">\n",
       "  <thead>\n",
       "    <tr style=\"text-align: right;\">\n",
       "      <th></th>\n",
       "      <th>0</th>\n",
       "      <th>1</th>\n",
       "      <th>2</th>\n",
       "      <th>3</th>\n",
       "    </tr>\n",
       "  </thead>\n",
       "  <tbody>\n",
       "    <tr>\n",
       "      <th>count</th>\n",
       "      <td>6.000000</td>\n",
       "      <td>6.000000</td>\n",
       "      <td>6.000000</td>\n",
       "      <td>6.000000</td>\n",
       "    </tr>\n",
       "    <tr>\n",
       "      <th>mean</th>\n",
       "      <td>4.833333</td>\n",
       "      <td>5.333333</td>\n",
       "      <td>4.666667</td>\n",
       "      <td>2.000000</td>\n",
       "    </tr>\n",
       "    <tr>\n",
       "      <th>std</th>\n",
       "      <td>3.371449</td>\n",
       "      <td>2.338090</td>\n",
       "      <td>3.386247</td>\n",
       "      <td>0.008944</td>\n",
       "    </tr>\n",
       "    <tr>\n",
       "      <th>min</th>\n",
       "      <td>1.000000</td>\n",
       "      <td>2.000000</td>\n",
       "      <td>2.000000</td>\n",
       "      <td>1.990000</td>\n",
       "    </tr>\n",
       "    <tr>\n",
       "      <th>25%</th>\n",
       "      <td>1.750000</td>\n",
       "      <td>4.250000</td>\n",
       "      <td>2.250000</td>\n",
       "      <td>1.992500</td>\n",
       "    </tr>\n",
       "    <tr>\n",
       "      <th>50%</th>\n",
       "      <td>5.500000</td>\n",
       "      <td>5.000000</td>\n",
       "      <td>3.000000</td>\n",
       "      <td>2.000000</td>\n",
       "    </tr>\n",
       "    <tr>\n",
       "      <th>75%</th>\n",
       "      <td>7.000000</td>\n",
       "      <td>7.250000</td>\n",
       "      <td>7.500000</td>\n",
       "      <td>2.007500</td>\n",
       "    </tr>\n",
       "    <tr>\n",
       "      <th>max</th>\n",
       "      <td>9.000000</td>\n",
       "      <td>8.000000</td>\n",
       "      <td>9.000000</td>\n",
       "      <td>2.010000</td>\n",
       "    </tr>\n",
       "  </tbody>\n",
       "</table>\n",
       "</div>"
      ],
      "text/plain": [
       "              0         1         2         3\n",
       "count  6.000000  6.000000  6.000000  6.000000\n",
       "mean   4.833333  5.333333  4.666667  2.000000\n",
       "std    3.371449  2.338090  3.386247  0.008944\n",
       "min    1.000000  2.000000  2.000000  1.990000\n",
       "25%    1.750000  4.250000  2.250000  1.992500\n",
       "50%    5.500000  5.000000  3.000000  2.000000\n",
       "75%    7.000000  7.250000  7.500000  2.007500\n",
       "max    9.000000  8.000000  9.000000  2.010000"
      ]
     },
     "execution_count": 6,
     "metadata": {},
     "output_type": "execute_result"
    }
   ],
   "source": [
    "import pandas as pd\n",
    "pd.DataFrame(X).describe()"
   ]
  },
  {
   "cell_type": "code",
   "execution_count": 7,
   "metadata": {},
   "outputs": [
    {
     "data": {
      "text/html": [
       "<div>\n",
       "<style>\n",
       "    .dataframe thead tr:only-child th {\n",
       "        text-align: right;\n",
       "    }\n",
       "\n",
       "    .dataframe thead th {\n",
       "        text-align: left;\n",
       "    }\n",
       "\n",
       "    .dataframe tbody tr th {\n",
       "        vertical-align: top;\n",
       "    }\n",
       "</style>\n",
       "<table border=\"1\" class=\"dataframe\">\n",
       "  <thead>\n",
       "    <tr style=\"text-align: right;\">\n",
       "      <th></th>\n",
       "      <th>0</th>\n",
       "      <th>1</th>\n",
       "      <th>2</th>\n",
       "      <th>3</th>\n",
       "    </tr>\n",
       "  </thead>\n",
       "  <tbody>\n",
       "    <tr>\n",
       "      <th>count</th>\n",
       "      <td>6.000000e+00</td>\n",
       "      <td>6.000000e+00</td>\n",
       "      <td>6.000000e+00</td>\n",
       "      <td>6.000000e+00</td>\n",
       "    </tr>\n",
       "    <tr>\n",
       "      <th>mean</th>\n",
       "      <td>7.401487e-17</td>\n",
       "      <td>1.295260e-16</td>\n",
       "      <td>-7.401487e-17</td>\n",
       "      <td>-9.029814e-15</td>\n",
       "    </tr>\n",
       "    <tr>\n",
       "      <th>std</th>\n",
       "      <td>1.095445e+00</td>\n",
       "      <td>1.095445e+00</td>\n",
       "      <td>1.095445e+00</td>\n",
       "      <td>1.095445e+00</td>\n",
       "    </tr>\n",
       "    <tr>\n",
       "      <th>min</th>\n",
       "      <td>-1.245520e+00</td>\n",
       "      <td>-1.561738e+00</td>\n",
       "      <td>-8.626622e-01</td>\n",
       "      <td>-1.224745e+00</td>\n",
       "    </tr>\n",
       "    <tr>\n",
       "      <th>25%</th>\n",
       "      <td>-1.001831e+00</td>\n",
       "      <td>-5.075647e-01</td>\n",
       "      <td>-7.817876e-01</td>\n",
       "      <td>-9.185587e-01</td>\n",
       "    </tr>\n",
       "    <tr>\n",
       "      <th>50%</th>\n",
       "      <td>2.166121e-01</td>\n",
       "      <td>-1.561738e-01</td>\n",
       "      <td>-5.391639e-01</td>\n",
       "      <td>0.000000e+00</td>\n",
       "    </tr>\n",
       "    <tr>\n",
       "      <th>75%</th>\n",
       "      <td>7.039895e-01</td>\n",
       "      <td>8.979991e-01</td>\n",
       "      <td>9.165786e-01</td>\n",
       "      <td>9.185587e-01</td>\n",
       "    </tr>\n",
       "    <tr>\n",
       "      <th>max</th>\n",
       "      <td>1.353826e+00</td>\n",
       "      <td>1.249390e+00</td>\n",
       "      <td>1.401826e+00</td>\n",
       "      <td>1.224745e+00</td>\n",
       "    </tr>\n",
       "  </tbody>\n",
       "</table>\n",
       "</div>"
      ],
      "text/plain": [
       "                  0             1             2             3\n",
       "count  6.000000e+00  6.000000e+00  6.000000e+00  6.000000e+00\n",
       "mean   7.401487e-17  1.295260e-16 -7.401487e-17 -9.029814e-15\n",
       "std    1.095445e+00  1.095445e+00  1.095445e+00  1.095445e+00\n",
       "min   -1.245520e+00 -1.561738e+00 -8.626622e-01 -1.224745e+00\n",
       "25%   -1.001831e+00 -5.075647e-01 -7.817876e-01 -9.185587e-01\n",
       "50%    2.166121e-01 -1.561738e-01 -5.391639e-01  0.000000e+00\n",
       "75%    7.039895e-01  8.979991e-01  9.165786e-01  9.185587e-01\n",
       "max    1.353826e+00  1.249390e+00  1.401826e+00  1.224745e+00"
      ]
     },
     "execution_count": 7,
     "metadata": {},
     "output_type": "execute_result"
    }
   ],
   "source": [
    "pd.DataFrame(ss.transform(X)).describe()"
   ]
  },
  {
   "cell_type": "code",
   "execution_count": null,
   "metadata": {
    "collapsed": true
   },
   "outputs": [],
   "source": []
  },
  {
   "cell_type": "code",
   "execution_count": null,
   "metadata": {
    "collapsed": true
   },
   "outputs": [],
   "source": []
  },
  {
   "cell_type": "code",
   "execution_count": null,
   "metadata": {
    "collapsed": true
   },
   "outputs": [],
   "source": []
  }
 ],
 "metadata": {
  "kernelspec": {
   "display_name": "Python 3",
   "language": "python",
   "name": "python3"
  },
  "language_info": {
   "codemirror_mode": {
    "name": "ipython",
    "version": 3
   },
   "file_extension": ".py",
   "mimetype": "text/x-python",
   "name": "python",
   "nbconvert_exporter": "python",
   "pygments_lexer": "ipython3",
   "version": "3.6.3"
  }
 },
 "nbformat": 4,
 "nbformat_minor": 2
}
