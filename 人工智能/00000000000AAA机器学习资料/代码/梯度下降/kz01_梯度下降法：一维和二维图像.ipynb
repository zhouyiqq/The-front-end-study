{
 "cells": [
  {
   "cell_type": "code",
   "execution_count": 1,
   "metadata": {
    "collapsed": true
   },
   "outputs": [],
   "source": [
    "import numpy as np\n",
    "import matplotlib as mpl\n",
    "import matplotlib.pyplot as plt\n",
    "import math\n",
    "from mpl_toolkits.mplot3d import Axes3D"
   ]
  },
  {
   "cell_type": "code",
   "execution_count": 2,
   "metadata": {
    "collapsed": true
   },
   "outputs": [],
   "source": [
    "# 设置在jupyter中matplotlib的显示情况（表示不是嵌入显示）\n",
    "%matplotlib tk"
   ]
  },
  {
   "cell_type": "code",
   "execution_count": 3,
   "metadata": {
    "collapsed": true
   },
   "outputs": [],
   "source": [
    "# 解决中文显示问题\n",
    "mpl.rcParams['font.sans-serif'] = [u'SimHei']\n",
    "mpl.rcParams['axes.unicode_minus'] = False"
   ]
  },
  {
   "cell_type": "code",
   "execution_count": 4,
   "metadata": {
    "collapsed": true
   },
   "outputs": [],
   "source": [
    "# 一维原始图像\n",
    "def f1(x):\n",
    "    return 0.5 * (x - 0.25) ** 2\n",
    "\n",
    "# 构建数据\n",
    "X = np.arange(-4, 4.5, 0.05)\n",
    "Y = np.array(list(map(lambda t: f1(t), X)))\n",
    "\n",
    "# 画图\n",
    "plt.figure(facecolor='w')\n",
    "plt.plot(X, Y, 'r-', linewidth=2)\n",
    "plt.title(u'函数$y=0.5 * (θ - 0.25)^2$')\n",
    "plt.show()\n"
   ]
  },
  {
   "cell_type": "code",
   "execution_count": 5,
   "metadata": {
    "collapsed": true
   },
   "outputs": [],
   "source": [
    "# 二维原始图像\n",
    "def f2(x, y):\n",
    "    return 0.6 * (x + y) ** 2 - x * y\n",
    "\n",
    "# 构建数据\n",
    "X1 = np.arange(-4, 4.5, 0.2)\n",
    "X2 = np.arange(-4, 4.5, 0.2)\n",
    "X1, X2 = np.meshgrid(X1, X2)\n",
    "Y = np.array(list(map(lambda t: f2(t[0], t[1]), zip(X1.flatten(), X2.flatten()))))\n",
    "Y.shape = X1.shape\n",
    "\n",
    "\n",
    "# 画图\n",
    "fig = plt.figure(facecolor='w')\n",
    "ax = Axes3D(fig)\n",
    "ax.plot_surface(X1, X2, Y, rstride=1, cstride=1, cmap=plt.cm.jet)\n",
    "ax.set_title(u'函数$y=0.6 * (θ1 + θ2)^2 - θ1 * θ2$')\n",
    "plt.show()\n"
   ]
  },
  {
   "cell_type": "code",
   "execution_count": null,
   "metadata": {
    "collapsed": true
   },
   "outputs": [],
   "source": []
  },
  {
   "cell_type": "code",
   "execution_count": null,
   "metadata": {
    "collapsed": true
   },
   "outputs": [],
   "source": []
  },
  {
   "cell_type": "code",
   "execution_count": null,
   "metadata": {
    "collapsed": true
   },
   "outputs": [],
   "source": []
  }
 ],
 "metadata": {
  "kernelspec": {
   "display_name": "Python 3",
   "language": "python",
   "name": "python3"
  },
  "language_info": {
   "codemirror_mode": {
    "name": "ipython",
    "version": 3
   },
   "file_extension": ".py",
   "mimetype": "text/x-python",
   "name": "python",
   "nbconvert_exporter": "python",
   "pygments_lexer": "ipython3",
   "version": "3.6.3"
  }
 },
 "nbformat": 4,
 "nbformat_minor": 2
}
